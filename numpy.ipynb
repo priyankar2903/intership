{
 "cells": [
  {
   "cell_type": "code",
   "execution_count": 1,
   "id": "c0e10fca-824a-4cdc-9c11-515fa8156d9f",
   "metadata": {},
   "outputs": [
    {
     "name": "stdout",
     "output_type": "stream",
     "text": [
      "Requirement already satisfied: numpy in c:\\users\\admin\\anaconda3d\\jpd\\jp\\lib\\site-packages (1.26.4)\n",
      "Note: you may need to restart the kernel to use updated packages.\n"
     ]
    }
   ],
   "source": [
    "pip install numpy"
   ]
  },
  {
   "cell_type": "code",
   "execution_count": 3,
   "id": "e36f4076-3f71-4d18-ac06-b8e2d9b8e658",
   "metadata": {},
   "outputs": [
    {
     "name": "stdout",
     "output_type": "stream",
     "text": [
      "[10 20 30 40]\n",
      "1.26.4\n"
     ]
    }
   ],
   "source": [
    "import numpy as np\n",
    "arr=np.array([10,20,30,40])\n",
    "print(arr)\n",
    "#checking version\n",
    "print(np.__version__)"
   ]
  },
  {
   "cell_type": "code",
   "execution_count": 4,
   "id": "f2373f11-f4bd-4cea-8492-eb3f130b260f",
   "metadata": {},
   "outputs": [
    {
     "name": "stdout",
     "output_type": "stream",
     "text": [
      "[1 2 3 4 5]\n",
      "<class 'numpy.ndarray'>\n"
     ]
    }
   ],
   "source": [
    "arr2=np.array([1,2,3,4,5])\n",
    "print(arr2)\n",
    "#array type\n",
    "print(type(arr2))"
   ]
  },
  {
   "cell_type": "code",
   "execution_count": 5,
   "id": "d63f4192-d462-4272-b5e1-5be1d0c78e92",
   "metadata": {},
   "outputs": [
    {
     "name": "stdout",
     "output_type": "stream",
     "text": [
      "[10 20 30 40]\n"
     ]
    }
   ],
   "source": [
    "#1 d array\n",
    "arr2=np.array([10,20,30,40])\n",
    "print(arr2)"
   ]
  },
  {
   "cell_type": "code",
   "execution_count": 7,
   "id": "541100e9-14d7-4cbf-9721-638262f33be7",
   "metadata": {},
   "outputs": [
    {
     "name": "stdout",
     "output_type": "stream",
     "text": [
      "[[1 2 3]\n",
      " [4 5 6]]\n"
     ]
    }
   ],
   "source": [
    "#2d array\n",
    "arr3=np.array([[1,2,3],\n",
    "               [4,5,6]])\n",
    "print(arr3)              \n",
    "              "
   ]
  },
  {
   "cell_type": "code",
   "execution_count": 10,
   "id": "6c78772c-5699-4759-993c-72d47aa7e7ed",
   "metadata": {},
   "outputs": [
    {
     "name": "stdout",
     "output_type": "stream",
     "text": [
      "[30 50]\n",
      "[50 60]\n"
     ]
    }
   ],
   "source": [
    "#array slicing\n",
    "arr=np.array([20,30,40,50,60,70])\n",
    "print(arr[1:5:2])\n",
    "print(arr[-3:-1])"
   ]
  },
  {
   "cell_type": "code",
   "execution_count": 16,
   "id": "a086866d-0a37-4e13-8f93-b7f1fb121f45",
   "metadata": {},
   "outputs": [
    {
     "name": "stdout",
     "output_type": "stream",
     "text": [
      "int32\n"
     ]
    }
   ],
   "source": [
    "#checking datatype\n",
    "arr5=np.array([1,2,3,4,5,6])\n",
    "print(arr5.dtype)"
   ]
  },
  {
   "cell_type": "code",
   "execution_count": 17,
   "id": "88e8ac99-2b26-43c9-bfa1-e8386cb9d1be",
   "metadata": {},
   "outputs": [
    {
     "name": "stdout",
     "output_type": "stream",
     "text": [
      "(2, 4)\n"
     ]
    }
   ],
   "source": [
    "#array shape\n",
    "arr=np.array([[1,2,3,4],\n",
    "              [5,6,7,8]])\n",
    "print(arr.shape)"
   ]
  },
  {
   "cell_type": "code",
   "execution_count": 20,
   "id": "643874f5-d974-467b-bdeb-fcf08e24e8bf",
   "metadata": {},
   "outputs": [
    {
     "name": "stdout",
     "output_type": "stream",
     "text": [
      "8\n"
     ]
    }
   ],
   "source": [
    "#size an array\n",
    "arr=np.array([[1,2,3,4,],\n",
    "              [5,6,7,8]])\n",
    "print(arr.size)"
   ]
  },
  {
   "cell_type": "code",
   "execution_count": 21,
   "id": "722cbbe4-ce40-4b91-b402-80faa9c06c65",
   "metadata": {},
   "outputs": [
    {
     "name": "stdout",
     "output_type": "stream",
     "text": [
      "[[ 1  2  3]\n",
      " [ 4  5  6]\n",
      " [ 7  8  9]\n",
      " [10 11 12]]\n"
     ]
    }
   ],
   "source": [
    "#array reshaping\n",
    "arr=np.array([1,2,3,4,5,6,7,8,9,10,11,12])\n",
    "newarr=arr.reshape(4,3)\n",
    "print(newarr)"
   ]
  },
  {
   "cell_type": "code",
   "execution_count": 22,
   "id": "97c05efb-9a6c-4594-bcc0-e0fee1fa2de7",
   "metadata": {},
   "outputs": [
    {
     "name": "stdout",
     "output_type": "stream",
     "text": [
      "1\n",
      "2\n",
      "3\n"
     ]
    }
   ],
   "source": [
    "#array lterating\n",
    "arr=np.array([1,2,3])\n",
    "for x in arr:\n",
    "    print(x)"
   ]
  },
  {
   "cell_type": "code",
   "execution_count": 23,
   "id": "66d835bf-e532-4fde-8868-fc9d21bfe607",
   "metadata": {},
   "outputs": [
    {
     "name": "stdout",
     "output_type": "stream",
     "text": [
      "[ 1  2  3 10 20 30 40]\n"
     ]
    }
   ],
   "source": [
    "#joining array\n",
    "arr1=np.array([1,2,3])\n",
    "aar2=np.array([4,5,6])\n",
    "arr=np.concatenate((arr1,arr2))\n",
    "print(arr)"
   ]
  },
  {
   "cell_type": "code",
   "execution_count": 25,
   "id": "a68919ac-c10f-4b8f-9bde-dc4a3403bd3f",
   "metadata": {},
   "outputs": [
    {
     "name": "stdout",
     "output_type": "stream",
     "text": [
      "[array([1, 2]), array([3, 4]), array([5, 6])]\n"
     ]
    }
   ],
   "source": [
    "#spliting array\n",
    "arr=np.array([1,2,3,4,5,6])\n",
    "newarr=np.array_split(arr,3)\n",
    "print(newarr)"
   ]
  },
  {
   "cell_type": "code",
   "execution_count": 26,
   "id": "5df1fd39-72f7-4146-9251-e2596016b5cf",
   "metadata": {},
   "outputs": [
    {
     "name": "stdout",
     "output_type": "stream",
     "text": [
      "(array([4], dtype=int64),)\n"
     ]
    }
   ],
   "source": [
    "#searching array indexing\n",
    "arr=np.array([1,2,3,4,5,4,4])\n",
    "x=np.where(arr==5)\n",
    "print(x)"
   ]
  },
  {
   "cell_type": "code",
   "execution_count": 28,
   "id": "c7810a27-3d6f-4cb9-b3eb-f0f5d704bbc6",
   "metadata": {},
   "outputs": [
    {
     "name": "stdout",
     "output_type": "stream",
     "text": [
      "[0 1 2 3]\n"
     ]
    }
   ],
   "source": [
    "#soarting array\n",
    "#assending\n",
    "arr=np.array([3,2,0,1])\n",
    "print(np.sort(arr))"
   ]
  },
  {
   "cell_type": "code",
   "execution_count": 29,
   "id": "a51555ec-c04f-4095-ae76-2d6256aa1c5e",
   "metadata": {},
   "outputs": [
    {
     "name": "stdout",
     "output_type": "stream",
     "text": [
      "[3 2 1 0]\n"
     ]
    }
   ],
   "source": [
    "#desending\n",
    "arr=np.array([3,2,0,1])\n",
    "print(np.sort(arr)[::-1])"
   ]
  },
  {
   "cell_type": "code",
   "execution_count": 30,
   "id": "5508e28e-5fbf-4607-98af-7f3b60c43099",
   "metadata": {},
   "outputs": [
    {
     "name": "stdout",
     "output_type": "stream",
     "text": [
      "[41 43]\n"
     ]
    }
   ],
   "source": [
    "#filtering array\n",
    "arr=np.array([41,42,43,44])\n",
    "x=[True,False,True,False]\n",
    "newarr=arr[x]\n",
    "print(newarr)"
   ]
  },
  {
   "cell_type": "code",
   "execution_count": 34,
   "id": "b5b54f2f-3b40-4a30-a2f7-f237127e3960",
   "metadata": {},
   "outputs": [
    {
     "name": "stdout",
     "output_type": "stream",
     "text": [
      "[False, False, True, True]\n",
      "[43 44]\n"
     ]
    }
   ],
   "source": [
    "arr=np.array([41,42,43,44])\n",
    "filter_arr=[]\n",
    "for element in arr:\n",
    "    if element >42:\n",
    "      filter_arr.append(True)\n",
    "    else:\n",
    "        filter_arr.append(False)\n",
    "newarr=arr[filter_arr]  \n",
    "print(filter_arr)\n",
    "print(newarr)"
   ]
  },
  {
   "cell_type": "code",
   "execution_count": 35,
   "id": "5d6d6529-7c28-4207-89a5-0ec93cdfbd4b",
   "metadata": {},
   "outputs": [
    {
     "name": "stdout",
     "output_type": "stream",
     "text": [
      "int32\n",
      "['1' '2' '3' '4' '5' '6']\n"
     ]
    }
   ],
   "source": [
    "#checking data type of array\n",
    "arr=np.array([1,2,3,4,5,6])\n",
    "print(arr.dtype)\n",
    "#convert the data\n",
    "print(arr.astype(str))"
   ]
  },
  {
   "cell_type": "code",
   "execution_count": 40,
   "id": "9a9d1651-aaf1-49ad-8e7c-62f383fb35e7",
   "metadata": {},
   "outputs": [
    {
     "name": "stdout",
     "output_type": "stream",
     "text": [
      "[1 2 3 4 5 6 6 7]\n",
      "[1 2 3 6 7 4 5 6]\n",
      "[1 3 4 5 6]\n"
     ]
    }
   ],
   "source": [
    "#adding and removing\n",
    "arr=np.array([1,2,3,4,5,6])\n",
    "#adding only ending\n",
    "print(np.append(arr,[6,7]))\n",
    "#insert(adding into specific element)\n",
    "print(np.insert(arr,3,[6,7]))\n",
    "#delete\n",
    "print(np.delete(arr,[1]))"
   ]
  },
  {
   "cell_type": "code",
   "execution_count": 44,
   "id": "1f8931f4-a41d-4126-8476-00b7f57b7f18",
   "metadata": {},
   "outputs": [
    {
     "name": "stdout",
     "output_type": "stream",
     "text": [
      "150\n",
      "10\n",
      "50\n"
     ]
    }
   ],
   "source": [
    "#agrigate function\n",
    "arr=np.array([10,20,30,40,50])\n",
    "#sum\n",
    "print(np.sum(arr))\n",
    "#minimum\n",
    "print(np.min(arr))\n",
    "#maximum\n",
    "print(np.max(arr))\n",
    "#comsum\n"
   ]
  },
  {
   "cell_type": "code",
   "execution_count": 48,
   "id": "c00de365-bc0c-41f1-9e6f-5c269d84ee32",
   "metadata": {},
   "outputs": [
    {
     "name": "stdout",
     "output_type": "stream",
     "text": [
      "40.0\n",
      "40.0\n",
      "10\n"
     ]
    }
   ],
   "source": [
    "#statistical function\n",
    "import statistics as stats\n",
    "food_prices=[10,20,30,40,50,60,70]\n",
    "a=np.array(food_prices)\n",
    "#mean\n",
    "print(np.mean(a))\n",
    "#median\n",
    "print(np.median(a))\n",
    "#mode\n",
    "print(stats.mode(a))"
   ]
  },
  {
   "cell_type": "code",
   "execution_count": null,
   "id": "e6545136-eab3-44dd-91f5-595ec280ebcb",
   "metadata": {},
   "outputs": [],
   "source": []
  }
 ],
 "metadata": {
  "kernelspec": {
   "display_name": "Python 3 (ipykernel)",
   "language": "python",
   "name": "python3"
  },
  "language_info": {
   "codemirror_mode": {
    "name": "ipython",
    "version": 3
   },
   "file_extension": ".py",
   "mimetype": "text/x-python",
   "name": "python",
   "nbconvert_exporter": "python",
   "pygments_lexer": "ipython3",
   "version": "3.12.7"
  }
 },
 "nbformat": 4,
 "nbformat_minor": 5
}
